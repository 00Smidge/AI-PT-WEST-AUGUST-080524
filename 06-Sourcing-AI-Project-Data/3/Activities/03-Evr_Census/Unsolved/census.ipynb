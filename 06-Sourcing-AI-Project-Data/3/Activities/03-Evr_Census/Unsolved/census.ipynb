{
 "cells": [
  {
   "cell_type": "markdown",
   "metadata": {},
   "source": [
    "# U.S. Census Retrieval"
   ]
  },
  {
   "cell_type": "code",
   "execution_count": 25,
   "metadata": {
    "tags": []
   },
   "outputs": [],
   "source": [
    "# Import dependencies\n",
    "import requests\n",
    "import pandas as pd\n",
    "from census import Census\n",
    "from us import states\n",
    "from dotenv import load_dotenv\n",
    "import os\n",
    "\n",
    "# Load environment variables and U.S. Census API key\n",
    "load_dotenv()\n",
    "api_key = os.getenv(\"CENSUS_API_KEY\")\n",
    "c = Census(f\"{api_key}\")"
   ]
  },
  {
   "cell_type": "code",
   "execution_count": 26,
   "metadata": {},
   "outputs": [
    {
     "name": "stdout",
     "output_type": "stream",
     "text": [
      "[{'P001001': '6629', 'state': '49', 'county': '001'}, {'P001001': '49975', 'state': '49', 'county': '003'}, {'P001001': '21403', 'state': '49', 'county': '007'}, {'P001001': '1059', 'state': '49', 'county': '009'}, {'P001001': '10246', 'state': '49', 'county': '023'}, {'P001001': '306479', 'state': '49', 'county': '011'}, {'P001001': '112656', 'state': '49', 'county': '005'}, {'P001001': '18607', 'state': '49', 'county': '013'}, {'P001001': '10976', 'state': '49', 'county': '015'}, {'P001001': '5172', 'state': '49', 'county': '017'}, {'P001001': '9225', 'state': '49', 'county': '019'}, {'P001001': '46163', 'state': '49', 'county': '021'}, {'P001001': '27822', 'state': '49', 'county': '039'}, {'P001001': '7125', 'state': '49', 'county': '025'}, {'P001001': '12503', 'state': '49', 'county': '027'}, {'P001001': '2264', 'state': '49', 'county': '033'}, {'P001001': '9469', 'state': '49', 'county': '029'}, {'P001001': '1556', 'state': '49', 'county': '031'}, {'P001001': '1029655', 'state': '49', 'county': '035'}, {'P001001': '14746', 'state': '49', 'county': '037'}, {'P001001': '20802', 'state': '49', 'county': '041'}, {'P001001': '36324', 'state': '49', 'county': '043'}, {'P001001': '58218', 'state': '49', 'county': '045'}, {'P001001': '231236', 'state': '49', 'county': '057'}, {'P001001': '32588', 'state': '49', 'county': '047'}, {'P001001': '516564', 'state': '49', 'county': '049'}, {'P001001': '23530', 'state': '49', 'county': '051'}, {'P001001': '138115', 'state': '49', 'county': '053'}, {'P001001': '2778', 'state': '49', 'county': '055'}]\n"
     ]
    }
   ],
   "source": [
    "# Create an instance of the Census library\n",
    "population_data = c.sf1.state_county(\n",
    "    \"P001001\",\n",
    "    states.UT.fips,\n",
    "    Census.ALL\n",
    ")\n",
    "print(population_data)"
   ]
  },
  {
   "cell_type": "markdown",
   "metadata": {},
   "source": [
    "## Retrieve data from the U.S. Census using the Census library\n",
    "\n",
    "References:\n",
    "\n",
    "* Review the following page to review the Python library documentation: <https://github.com/CommerceDataService/census-wrapper>\n",
    "\n",
    "* Review the following page to learn more about the data labels: <https://gist.github.com/afhaque/60558290d6efd892351c4b64e5c01e9b>"
   ]
  },
  {
   "cell_type": "code",
   "execution_count": 27,
   "metadata": {},
   "outputs": [
    {
     "data": {
      "text/html": [
       "<div>\n",
       "<style scoped>\n",
       "    .dataframe tbody tr th:only-of-type {\n",
       "        vertical-align: middle;\n",
       "    }\n",
       "\n",
       "    .dataframe tbody tr th {\n",
       "        vertical-align: top;\n",
       "    }\n",
       "\n",
       "    .dataframe thead th {\n",
       "        text-align: right;\n",
       "    }\n",
       "</style>\n",
       "<table border=\"1\" class=\"dataframe\">\n",
       "  <thead>\n",
       "    <tr style=\"text-align: right;\">\n",
       "      <th></th>\n",
       "      <th>Population</th>\n",
       "      <th>State</th>\n",
       "    </tr>\n",
       "  </thead>\n",
       "  <tbody>\n",
       "    <tr>\n",
       "      <th>44</th>\n",
       "      <td>134775.0</td>\n",
       "      <td>49</td>\n",
       "    </tr>\n",
       "    <tr>\n",
       "      <th>29</th>\n",
       "      <td>35533.0</td>\n",
       "      <td>33</td>\n",
       "    </tr>\n",
       "    <tr>\n",
       "      <th>28</th>\n",
       "      <td>96387.0</td>\n",
       "      <td>32</td>\n",
       "    </tr>\n",
       "    <tr>\n",
       "      <th>48</th>\n",
       "      <td>50305.0</td>\n",
       "      <td>54</td>\n",
       "    </tr>\n",
       "    <tr>\n",
       "      <th>4</th>\n",
       "      <td>1212387.0</td>\n",
       "      <td>06</td>\n",
       "    </tr>\n",
       "  </tbody>\n",
       "</table>\n",
       "</div>"
      ],
      "text/plain": [
       "    Population State\n",
       "44    134775.0    49\n",
       "29     35533.0    33\n",
       "28     96387.0    32\n",
       "48     50305.0    54\n",
       "4    1212387.0    06"
      ]
     },
     "execution_count": 27,
     "metadata": {},
     "output_type": "execute_result"
    }
   ],
   "source": [
    "# Run Census Search to retrieve data on all states (2020 ACS5 Census)\n",
    "asc5_census = c.acs5.get('B01001_004E', {'for':'state:*'})\n",
    "\n",
    "# Convert to DataFrame\n",
    "census_df = pd.DataFrame(asc5_census)\n",
    "census_df.sample(n=5)\n",
    "\n",
    "# Column renaming\n",
    "census_df = census_df.rename(columns={'B01001_004E':'Population', 'state':'State'})\n",
    "\n",
    "# Display DataFrame length and sample data\n",
    "census_df.sample(n=5)\n"
   ]
  },
  {
   "cell_type": "code",
   "execution_count": 28,
   "metadata": {
    "tags": []
   },
   "outputs": [],
   "source": [
    "# Save the DataFrame as a CSV\n",
    "# Note: To avoid any issues later, use encoding=\"utf-8\"\n",
    "census_df.to_csv('2020-asc5-census-data.csv', encoding='utf-8', index=False)"
   ]
  },
  {
   "cell_type": "code",
   "execution_count": null,
   "metadata": {},
   "outputs": [],
   "source": []
  }
 ],
 "metadata": {
  "anaconda-cloud": {},
  "kernelspec": {
   "display_name": "Python 3 (ipykernel)",
   "language": "python",
   "name": "python3"
  },
  "language_info": {
   "codemirror_mode": {
    "name": "ipython",
    "version": 3
   },
   "file_extension": ".py",
   "mimetype": "text/x-python",
   "name": "python",
   "nbconvert_exporter": "python",
   "pygments_lexer": "ipython3",
   "version": "3.12.4"
  },
  "latex_envs": {
   "LaTeX_envs_menu_present": true,
   "autoclose": false,
   "autocomplete": true,
   "bibliofile": "biblio.bib",
   "cite_by": "apalike",
   "current_citInitial": 1,
   "eqLabelWithNumbers": true,
   "eqNumInitial": 1,
   "hotkeys": {
    "equation": "Ctrl-E",
    "itemize": "Ctrl-I"
   },
   "labels_anchors": false,
   "latex_user_defs": false,
   "report_style_numbering": false,
   "user_envs_cfg": false
  }
 },
 "nbformat": 4,
 "nbformat_minor": 4
}
