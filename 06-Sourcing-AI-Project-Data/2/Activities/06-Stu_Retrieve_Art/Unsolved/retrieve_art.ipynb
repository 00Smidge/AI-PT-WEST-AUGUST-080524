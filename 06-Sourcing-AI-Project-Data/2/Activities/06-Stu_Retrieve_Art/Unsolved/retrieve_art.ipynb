{
 "cells": [
  {
   "cell_type": "code",
   "execution_count": 23,
   "metadata": {},
   "outputs": [],
   "source": [
    "# Import dependencies\n",
    "import requests\n",
    "import json\n",
    "import time\n",
    "\n",
    "# Met API URL\n",
    "base_url = 'https://collectionapi.metmuseum.org/public/collection/v1/search'\n",
    "\n",
    "# Search for art that contains \"Cézanne\"\n",
    "query_artist = 'Cézanne'\n",
    "\n",
    "# Search for art that is currently on view\n",
    "onDisplay = 'true'\n",
    "# Search for painting only\n",
    "art_medium = 'Paintings'\n",
    "# Search for art that has an image \n",
    "hasImages ='true'\n",
    "# Search for art from this time period\n",
    "dateBegin  =  \"1850\"\n",
    "dateEnd    =  \"1999\""
   ]
  },
  {
   "cell_type": "code",
   "execution_count": 24,
   "metadata": {},
   "outputs": [],
   "source": [
    "# Build query URL\n",
    "query_url = base_url + \"?q=\" + query_artist  + \"&isOnView=\" + onDisplay  + \"&medium=\" + art_medium + \"&hasImages=\" + hasImages + \"&dateBegin=\" + dateBegin + \"&dateEnd=\" + dateEnd "
   ]
  },
  {
   "cell_type": "code",
   "execution_count": 25,
   "metadata": {},
   "outputs": [
    {
     "name": "stdout",
     "output_type": "stream",
     "text": [
      "{\n",
      "    \"total\": 13,\n",
      "    \"objectIDs\": [\n",
      "        435876,\n",
      "        435621,\n",
      "        435875,\n",
      "        438003,\n",
      "        436529,\n",
      "        435880,\n",
      "        438821,\n",
      "        436121,\n",
      "        437654,\n",
      "        488978,\n",
      "        435702,\n",
      "        438815,\n",
      "        436526\n",
      "    ]\n",
      "}\n"
     ]
    }
   ],
   "source": [
    "# Request art\n",
    "req = requests.get(query_url)\n",
    "json_req = req.json()\n",
    "print(json.dumps(json_req, indent=4))"
   ]
  },
  {
   "cell_type": "code",
   "execution_count": 26,
   "metadata": {},
   "outputs": [],
   "source": [
    "# Extract the objectIDs list from the response\n",
    "ids = \n",
    "# Print the first 10 Object IDs\n"
   ]
  },
  {
   "cell_type": "code",
   "execution_count": 27,
   "metadata": {},
   "outputs": [
    {
     "ename": "NameError",
     "evalue": "name 'art_list' is not defined",
     "output_type": "error",
     "traceback": [
      "\u001b[0;31m---------------------------------------------------------------------------\u001b[0m",
      "\u001b[0;31mNameError\u001b[0m                                 Traceback (most recent call last)",
      "Cell \u001b[0;32mIn[27], line 2\u001b[0m\n\u001b[1;32m      1\u001b[0m \u001b[38;5;66;03m# Iterate through the first 10 pieces of art in this list to retrieve the details of each object ID:\u001b[39;00m\n\u001b[0;32m----> 2\u001b[0m \u001b[38;5;28;01mfor\u001b[39;00m object_id \u001b[38;5;129;01min\u001b[39;00m art_list[\u001b[38;5;241m1\u001b[39m:\u001b[38;5;241m10\u001b[39m]:\n\u001b[1;32m      3\u001b[0m     \u001b[38;5;66;03m# Retrieve details of the artwork using its ID\u001b[39;00m\n\u001b[1;32m      5\u001b[0m     \u001b[38;5;28;01mif\u001b[39;00m artwork_response\u001b[38;5;241m.\u001b[39mstatus_code \u001b[38;5;241m==\u001b[39m \u001b[38;5;241m200\u001b[39m:\n\u001b[1;32m      6\u001b[0m \n\u001b[1;32m      7\u001b[0m         \n\u001b[1;32m      8\u001b[0m         \u001b[38;5;66;03m# Extract relevant information\u001b[39;00m\n\u001b[1;32m      9\u001b[0m         title \u001b[38;5;241m=\u001b[39m artwork_details[\u001b[38;5;124m'\u001b[39m\u001b[38;5;124mtitle\u001b[39m\u001b[38;5;124m'\u001b[39m]\n",
      "\u001b[0;31mNameError\u001b[0m: name 'art_list' is not defined"
     ]
    }
   ],
   "source": [
    "# Iterate through the first 10 pieces of art in this list to retrieve the details of each object ID:\n",
    "for object_id in art_list[1:10]:\n",
    "    # Retrieve details of the artwork using its ID\n",
    "\n",
    "    if artwork_response.status_code == 200:\n",
    "\n",
    "        \n",
    "        # Extract relevant information\n",
    "        title = artwork_details['title']\n",
    "        artist = artwork_details['artistDisplayName']\n",
    "        image_url = artwork_details['primaryImage']\n",
    "\n",
    "        # Only print out painting wher the artist's name is 'Cézanne'\n",
    "        \n",
    "            # Display information\n",
    "\n",
    "        \n",
    "    # Add a one second interval between queries to stay within API query limits\n"
   ]
  },
  {
   "cell_type": "code",
   "execution_count": null,
   "metadata": {},
   "outputs": [],
   "source": []
  }
 ],
 "metadata": {
  "kernelspec": {
   "display_name": "Python 3 (ipykernel)",
   "language": "python",
   "name": "python3"
  },
  "language_info": {
   "codemirror_mode": {
    "name": "ipython",
    "version": 3
   },
   "file_extension": ".py",
   "mimetype": "text/x-python",
   "name": "python",
   "nbconvert_exporter": "python",
   "pygments_lexer": "ipython3",
   "version": "3.12.4"
  },
  "varInspector": {
   "cols": {
    "lenName": 16,
    "lenType": 16,
    "lenVar": 40
   },
   "kernels_config": {
    "python": {
     "delete_cmd_postfix": "",
     "delete_cmd_prefix": "del ",
     "library": "var_list.py",
     "varRefreshCmd": "print(var_dic_list())"
    },
    "r": {
     "delete_cmd_postfix": ") ",
     "delete_cmd_prefix": "rm(",
     "library": "var_list.r",
     "varRefreshCmd": "cat(var_dic_list()) "
    }
   },
   "types_to_exclude": [
    "module",
    "function",
    "builtin_function_or_method",
    "instance",
    "_Feature"
   ],
   "window_display": false
  }
 },
 "nbformat": 4,
 "nbformat_minor": 4
}
