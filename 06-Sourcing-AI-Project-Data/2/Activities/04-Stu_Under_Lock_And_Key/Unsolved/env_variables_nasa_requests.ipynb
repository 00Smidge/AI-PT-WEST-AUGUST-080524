{
 "cells": [
  {
   "cell_type": "code",
   "execution_count": 127,
   "metadata": {},
   "outputs": [],
   "source": [
    "# Initial imports\n",
    "import requests\n",
    "from dotenv import load_dotenv\n",
    "import os\n",
    "import json\n",
    "import pandas as pd"
   ]
  },
  {
   "cell_type": "markdown",
   "metadata": {},
   "source": [
    "### Use the `load_dotenv()` method from the `dotenv` package to load and export the environment variables"
   ]
  },
  {
   "cell_type": "code",
   "execution_count": 128,
   "metadata": {},
   "outputs": [
    {
     "data": {
      "text/plain": [
       "True"
      ]
     },
     "execution_count": 128,
     "metadata": {},
     "output_type": "execute_result"
    }
   ],
   "source": [
    "load_dotenv()"
   ]
  },
  {
   "cell_type": "markdown",
   "metadata": {},
   "source": [
    "### Use the `os.getenv` function to retrieve the environment variable named `NASA_API_KEY`. Store as a Python variable named `api_key`"
   ]
  },
  {
   "cell_type": "code",
   "execution_count": 129,
   "metadata": {},
   "outputs": [],
   "source": [
    "nasa_api = os.getenv('nasa', '17LT6HvZHgUZnEPmhuAUME9kRtVzSKhrLU9sqRKc')"
   ]
  },
  {
   "cell_type": "markdown",
   "metadata": {},
   "source": [
    "### Use the `type` function to confirm the retrieval of the API key."
   ]
  },
  {
   "cell_type": "code",
   "execution_count": 130,
   "metadata": {},
   "outputs": [
    {
     "name": "stdout",
     "output_type": "stream",
     "text": [
      "The NASA API was retrieved successfully. Type: <class 'str'>\n"
     ]
    }
   ],
   "source": [
    "print(f'The NASA API was retrieved successfully. Type: {type(nasa_api)}')"
   ]
  },
  {
   "cell_type": "markdown",
   "metadata": {},
   "source": [
    "### Concatenate `request_url` with the `api_key` variable"
   ]
  },
  {
   "cell_type": "code",
   "execution_count": 131,
   "metadata": {},
   "outputs": [
    {
     "name": "stdout",
     "output_type": "stream",
     "text": [
      "https://api.nasa.gov/DONKI/GST?startDate=2024-04-01&endDate=2024-05-05&api_key=17LT6HvZHgUZnEPmhuAUME9kRtVzSKhrLU9sqRKc\n"
     ]
    }
   ],
   "source": [
    "# Search NASA API URL for Geomagnetic Storms over North America for a certain month\n",
    "base_url = 'https://api.nasa.gov/DONKI/GST'\n",
    "\n",
    "# Search for Geomagnetic Storms over a certain time range\n",
    "start_date = \"2024-04-01\"\n",
    "end_date   = \"2024-05-05\"\n",
    "\n",
    "# Define latitude and longitude for North America\n",
    "latitude   = 37.0902  \n",
    "longitude  = -95.7129 \n",
    "\n",
    "# Build query URL\n",
    "gst_query = f'{base_url}?startDate={start_date}&endDate={end_date}&api_key={nasa_api}'\n",
    "print(gst_query)"
   ]
  },
  {
   "cell_type": "markdown",
   "metadata": {},
   "source": [
    "### Execute GET request with API key"
   ]
  },
  {
   "cell_type": "code",
   "execution_count": 132,
   "metadata": {},
   "outputs": [
    {
     "name": "stdout",
     "output_type": "stream",
     "text": [
      "<Response [200]>\n"
     ]
    }
   ],
   "source": [
    "# Execute get request\n",
    "\n",
    "params = {\n",
    "  'start_date': \"2024-04-01\",\n",
    "  'end_date': \"2024-05-05\",\n",
    "  'latitude': 37.0902,\n",
    "  'longitude': -95.7129,\n",
    "  'key': '17LT6HvZHgUZnEPmhuAUME9kRtVzSKhrLU9sqRKc'\n",
    "}\n",
    "\n",
    "req = requests.get(gst_query)\n",
    "print(req)"
   ]
  },
  {
   "cell_type": "markdown",
   "metadata": {},
   "source": [
    "### Display JSON to screen using `json.dumps()`"
   ]
  },
  {
   "cell_type": "code",
   "execution_count": 133,
   "metadata": {
    "scrolled": true
   },
   "outputs": [
    {
     "name": "stdout",
     "output_type": "stream",
     "text": [
      "[\n",
      "    {\n",
      "        \"gstID\": \"2024-04-19T18:00:00-GST-001\",\n",
      "        \"startTime\": \"2024-04-19T18:00Z\",\n",
      "        \"allKpIndex\": [\n",
      "            {\n",
      "                \"observedTime\": \"2024-04-19T21:00Z\",\n",
      "                \"kpIndex\": 7.0,\n",
      "                \"source\": \"NOAA\"\n",
      "            }\n",
      "        ],\n",
      "        \"link\": \"https://webtools.ccmc.gsfc.nasa.gov/DONKI/view/GST/30153/-1\",\n",
      "        \"linkedEvents\": [\n",
      "            {\n",
      "                \"activityID\": \"2024-04-15T06:48:00-CME-001\"\n",
      "            },\n",
      "            {\n",
      "                \"activityID\": \"2024-04-19T04:53:00-IPS-001\"\n",
      "            }\n",
      "        ],\n",
      "        \"submissionTime\": \"2024-04-19T21:40Z\",\n",
      "        \"versionId\": 1\n",
      "    },\n",
      "    {\n",
      "        \"gstID\": \"2024-05-02T15:00:00-GST-001\",\n",
      "        \"startTime\": \"2024-05-02T15:00Z\",\n",
      "        \"allKpIndex\": [\n",
      "            {\n",
      "                \"observedTime\": \"2024-05-02T18:00Z\",\n",
      "                \"kpIndex\": 6.67,\n",
      "                \"source\": \"NOAA\"\n",
      "            },\n",
      "            {\n",
      "                \"observedTime\": \"2024-05-02T21:00Z\",\n",
      "                \"kpIndex\": 6.67,\n",
      "                \"source\": \"NOAA\"\n",
      "            }\n",
      "        ],\n",
      "        \"link\": \"https://webtools.ccmc.gsfc.nasa.gov/DONKI/view/GST/30399/-1\",\n",
      "        \"linkedEvents\": [\n",
      "            {\n",
      "                \"activityID\": \"2024-05-02T07:46:00-IPS-001\"\n",
      "            },\n",
      "            {\n",
      "                \"activityID\": \"2024-05-02T15:49:00-MPC-001\"\n",
      "            }\n",
      "        ],\n",
      "        \"submissionTime\": \"2024-05-02T18:44Z\",\n",
      "        \"versionId\": 1\n",
      "    }\n",
      "]\n"
     ]
    }
   ],
   "source": [
    "# Format data as JSON\n",
    "json_req = req.json()\n",
    "# Use json.dumps with argument indent=4 to format data\n",
    "print(json.dumps(json_req, indent=4))"
   ]
  },
  {
   "cell_type": "code",
   "execution_count": 134,
   "metadata": {},
   "outputs": [
    {
     "data": {
      "text/html": [
       "<div>\n",
       "<style scoped>\n",
       "    .dataframe tbody tr th:only-of-type {\n",
       "        vertical-align: middle;\n",
       "    }\n",
       "\n",
       "    .dataframe tbody tr th {\n",
       "        vertical-align: top;\n",
       "    }\n",
       "\n",
       "    .dataframe thead th {\n",
       "        text-align: right;\n",
       "    }\n",
       "</style>\n",
       "<table border=\"1\" class=\"dataframe\">\n",
       "  <thead>\n",
       "    <tr style=\"text-align: right;\">\n",
       "      <th></th>\n",
       "      <th>gstID</th>\n",
       "      <th>startTime</th>\n",
       "      <th>allKpIndex</th>\n",
       "      <th>link</th>\n",
       "      <th>linkedEvents</th>\n",
       "      <th>submissionTime</th>\n",
       "      <th>versionId</th>\n",
       "    </tr>\n",
       "  </thead>\n",
       "  <tbody>\n",
       "    <tr>\n",
       "      <th>0</th>\n",
       "      <td>2024-04-19T18:00:00-GST-001</td>\n",
       "      <td>2024-04-19T18:00Z</td>\n",
       "      <td>[{'observedTime': '2024-04-19T21:00Z', 'kpInde...</td>\n",
       "      <td>https://webtools.ccmc.gsfc.nasa.gov/DONKI/view...</td>\n",
       "      <td>[{'activityID': '2024-04-15T06:48:00-CME-001'}...</td>\n",
       "      <td>2024-04-19T21:40Z</td>\n",
       "      <td>1</td>\n",
       "    </tr>\n",
       "    <tr>\n",
       "      <th>1</th>\n",
       "      <td>2024-05-02T15:00:00-GST-001</td>\n",
       "      <td>2024-05-02T15:00Z</td>\n",
       "      <td>[{'observedTime': '2024-05-02T18:00Z', 'kpInde...</td>\n",
       "      <td>https://webtools.ccmc.gsfc.nasa.gov/DONKI/view...</td>\n",
       "      <td>[{'activityID': '2024-05-02T07:46:00-IPS-001'}...</td>\n",
       "      <td>2024-05-02T18:44Z</td>\n",
       "      <td>1</td>\n",
       "    </tr>\n",
       "  </tbody>\n",
       "</table>\n",
       "</div>"
      ],
      "text/plain": [
       "                         gstID          startTime  \\\n",
       "0  2024-04-19T18:00:00-GST-001  2024-04-19T18:00Z   \n",
       "1  2024-05-02T15:00:00-GST-001  2024-05-02T15:00Z   \n",
       "\n",
       "                                          allKpIndex  \\\n",
       "0  [{'observedTime': '2024-04-19T21:00Z', 'kpInde...   \n",
       "1  [{'observedTime': '2024-05-02T18:00Z', 'kpInde...   \n",
       "\n",
       "                                                link  \\\n",
       "0  https://webtools.ccmc.gsfc.nasa.gov/DONKI/view...   \n",
       "1  https://webtools.ccmc.gsfc.nasa.gov/DONKI/view...   \n",
       "\n",
       "                                        linkedEvents     submissionTime  \\\n",
       "0  [{'activityID': '2024-04-15T06:48:00-CME-001'}...  2024-04-19T21:40Z   \n",
       "1  [{'activityID': '2024-05-02T07:46:00-IPS-001'}...  2024-05-02T18:44Z   \n",
       "\n",
       "   versionId  \n",
       "0          1  \n",
       "1          1  "
      ]
     },
     "execution_count": 134,
     "metadata": {},
     "output_type": "execute_result"
    }
   ],
   "source": [
    "# Convert geomagnetic_storms json file to a Pandas DataFrame\n",
    "gst_df = pd.DataFrame(json_req)\n",
    "# Keep only the columns: activityID, startTime, linkedEvents\n",
    "gst_df.head(5)\n"
   ]
  },
  {
   "cell_type": "markdown",
   "metadata": {},
   "source": [
    "## Bonus: extract activityID from dict"
   ]
  },
  {
   "cell_type": "code",
   "execution_count": 135,
   "metadata": {},
   "outputs": [],
   "source": [
    "# Create a function called extract_activityID_from_dict that takes a dict as input such as in linkedEvents and extracts the value of that dict\n",
    "\n",
    "\n"
   ]
  }
 ],
 "metadata": {
  "kernelspec": {
   "display_name": "Python 3 (ipykernel)",
   "language": "python",
   "name": "python3"
  },
  "language_info": {
   "codemirror_mode": {
    "name": "ipython",
    "version": 3
   },
   "file_extension": ".py",
   "mimetype": "text/x-python",
   "name": "python",
   "nbconvert_exporter": "python",
   "pygments_lexer": "ipython3",
   "version": "3.12.4"
  },
  "nteract": {
   "version": "0.28.0"
  }
 },
 "nbformat": 4,
 "nbformat_minor": 4
}
